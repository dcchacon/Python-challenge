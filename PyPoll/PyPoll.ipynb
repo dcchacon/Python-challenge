{
 "cells": [
  {
   "cell_type": "code",
   "execution_count": 1,
   "metadata": {},
   "outputs": [],
   "source": [
    "import os\n",
    "import csv\n",
    "\n",
    "#input file\n",
    "csvpath_data = os.path.join('data','input', 'election_data.csv')\n",
    "\n",
    "#output file \n",
    "analysis_output = os.path.join('data','output','Election_Analysis.txt')"
   ]
  },
  {
   "cell_type": "code",
   "execution_count": 2,
   "metadata": {},
   "outputs": [
    {
     "name": "stdout",
     "output_type": "stream",
     "text": [
      "data\\input\\election_data.csv\n"
     ]
    }
   ],
   "source": [
    "total_votes=0\n",
    "total_votes_candidate=0\n",
    "list_candidates=[]\n",
    "\n",
    "print(csvpath_data)"
   ]
  },
  {
   "cell_type": "code",
   "execution_count": 3,
   "metadata": {},
   "outputs": [
    {
     "name": "stdout",
     "output_type": "stream",
     "text": [
      "['Voter ID', 'County', 'Candidate']\n",
      "3521001\n"
     ]
    }
   ],
   "source": [
    "with open(csvpath_data, newline='', encoding='utf8') as polldata:\n",
    "    frecords=csv.reader(polldata,delimiter=',')\n",
    "    csv_header = next(frecords)\n",
    "    print(csv_header)\n",
    "        \n",
    "    for row in frecords:\n",
    "        total_votes += 1\n",
    "        #print(frecords)\n",
    "        #total_votes += int(row[1])\n",
    "    print(total_votes)"
   ]
  },
  {
   "cell_type": "code",
   "execution_count": null,
   "metadata": {},
   "outputs": [],
   "source": []
  },
  {
   "cell_type": "code",
   "execution_count": null,
   "metadata": {},
   "outputs": [],
   "source": []
  },
  {
   "cell_type": "code",
   "execution_count": null,
   "metadata": {},
   "outputs": [],
   "source": []
  }
 ],
 "metadata": {
  "kernelspec": {
   "display_name": "Python 3",
   "language": "python",
   "name": "python3"
  },
  "language_info": {
   "codemirror_mode": {
    "name": "ipython",
    "version": 3
   },
   "file_extension": ".py",
   "mimetype": "text/x-python",
   "name": "python",
   "nbconvert_exporter": "python",
   "pygments_lexer": "ipython3",
   "version": "3.7.4"
  }
 },
 "nbformat": 4,
 "nbformat_minor": 2
}
