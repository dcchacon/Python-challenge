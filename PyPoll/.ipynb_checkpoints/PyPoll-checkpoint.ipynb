{
 "cells": [
  {
   "cell_type": "code",
   "execution_count": 1,
   "metadata": {},
   "outputs": [],
   "source": [
    "import os\n",
    "import csv\n",
    "\n",
    "#input file\n",
    "csvpath_data = os.path.join('data','input', 'election_data.csv')\n",
    "\n",
    "#output file \n",
    "analysis_output = os.path.join('data','output','Election_Analysis.txt')"
   ]
  },
  {
   "cell_type": "code",
   "execution_count": 2,
   "metadata": {},
   "outputs": [
    {
     "name": "stdout",
     "output_type": "stream",
     "text": [
      "data\\input\\election_data.csv\n"
     ]
    }
   ],
   "source": [
    "total_votes=0\n",
    "total_votes_candidate=0\n",
    "list_candidates=[]\n",
    "list_unique_candidates = []\n",
    "Khan_count=0\n",
    "Khan_perc=0\n",
    "Correy_count=0\n",
    "Correy_perc=0\n",
    "Li_count=0\n",
    "Li_perc=0\n",
    "OTooley_count=0\n",
    "OTooley_perc=0\n",
    "\n",
    "print(csvpath_data)"
   ]
  },
  {
   "cell_type": "code",
   "execution_count": 3,
   "metadata": {},
   "outputs": [
    {
     "name": "stdout",
     "output_type": "stream",
     "text": [
      "['Voter ID', 'County', 'Candidate']\n",
      "3521001\n"
     ]
    }
   ],
   "source": [
    "with open(csvpath_data, newline='', encoding='utf8') as polldata:\n",
    "    frecords=csv.reader(polldata,delimiter=',')\n",
    "    csv_header=next(frecords)\n",
    "    print(csv_header)\n",
    "        \n",
    "    for row in frecords:\n",
    "        total_votes += 1\n",
    "        list_candidates.append(row[2])\n",
    "\n",
    "        #print(frecords)\n",
    "        #total_votes += int(row[1])\n",
    "      \n",
    "    print(total_votes)\n"
   ]
  },
  {
   "cell_type": "code",
   "execution_count": 4,
   "metadata": {},
   "outputs": [
    {
     "name": "stdout",
     "output_type": "stream",
     "text": [
      "{'Correy', 'Li', \"O'Tooley\", 'Khan'}\n"
     ]
    }
   ],
   "source": [
    "#retrieve the names of the unique candidates\n",
    "list_unique_candidates = set(list_candidates)\n",
    "print(list_unique_candidates)"
   ]
  },
  {
   "cell_type": "code",
   "execution_count": 5,
   "metadata": {},
   "outputs": [
    {
     "data": {
      "text/plain": [
       "'Khan'"
      ]
     },
     "execution_count": 5,
     "metadata": {},
     "output_type": "execute_result"
    }
   ],
   "source": [
    "Khan_count=list_candidates.count('Khan')\n",
    "Khan_perc=(Khan_count/total_votes)*100\n",
    "\n",
    "Correy_count=list_candidates.count('Correy')\n",
    "Correy_perc=(Correy_count/total_votes)*100\n",
    "\n",
    "Li_count=list_candidates.count('Li')\n",
    "Li_perc=(Li_count/total_votes)*100\n",
    "\n",
    "OTooley_count=list_candidates.count('O\\'Tooley')\n",
    "OTooley_perc=(OTooley_count/total_votes)*100\n",
    "\n",
    "#winner calculation\n",
    "var = {Khan_count:\"Khan\",Correy_count:\"Correy\",Li_count:\"Li\",OTooley_count:\"O\\'Tooley'\"}\n",
    "var.get(max(var))"
   ]
  },
  {
   "cell_type": "code",
   "execution_count": 6,
   "metadata": {},
   "outputs": [
    {
     "name": "stdout",
     "output_type": "stream",
     "text": [
      "Election results\n",
      "---------------------------------\n",
      "Total votes: 3521001\n",
      "---------------------------------\n",
      "Khan: 63.000% (2218231)\n",
      "Correy: 20.000% (704200)\n",
      "Li: 14.000% (492940)\n",
      "O'Tooley: 3.000% (105630)\n",
      "---------------------------------\n",
      "Winner: Khan\n",
      "---------------------------------\n"
     ]
    }
   ],
   "source": [
    "#print to terminal\n",
    "print(\"Election results\")\n",
    "print(\"---------------------------------\" )\n",
    "print(f'Total votes: {total_votes}')\n",
    "print(\"---------------------------------\" )\n",
    "print (f'Khan: {\"%.3f\" % Khan_perc}% ({str(Khan_count)})')\n",
    "print (f'Correy: {\"%.3f\" % Correy_perc}% ({str(Correy_count)})')\n",
    "print (f'Li: {\"%.3f\" % Li_perc}% ({str(Li_count)})')\n",
    "print (f'O\\'Tooley: {\"%.3f\" % OTooley_perc}% ({str(OTooley_count)})')\n",
    "print(\"---------------------------------\" )\n",
    "print (f'Winner: {var.get(max(var))}')\n",
    "print(\"---------------------------------\" )"
   ]
  },
  {
   "cell_type": "code",
   "execution_count": 7,
   "metadata": {},
   "outputs": [],
   "source": [
    "#create and save info into a text file\n",
    "with open(analysis_output, \"w\") as text:\n",
    "    line1=(\"Election results\")\n",
    "    line2=(\"---------------------------------\" )\n",
    "    line3=(f'Total votes: {total_votes}')\n",
    "    line4=(\"---------------------------------\" )\n",
    "    line5= (f'Khan: {\"%.3f\" % Khan_perc}% ({str(Khan_count)})')\n",
    "    line6= (f'Correy: {\"%.3f\" % Correy_perc}% ({str(Correy_count)})')\n",
    "    line7= (f'Li: {\"%.3f\" % Li_perc}% ({str(Li_count)})')\n",
    "    line8= (f'O\\'Tooley: {\"%.3f\" % OTooley_perc}% ({str(OTooley_count)})')\n",
    "    line9=(\"---------------------------------\" )\n",
    "    line10= (f'Winner: {var.get(max(var))}')\n",
    "    line11=(\"---------------------------------\" )\n",
    "    text.write(line1 + \"\\n\" + line2 + \"\\n\"+ line3 + \"\\n\" + line4 + \"\\n\" + line5 + \"\\n\"+ line6 + \"\\n\" + line7 + \"\\n\"+ line8 + \"\\n\"+ line9 + \"\\n\"+ line10 + \"\\n\"+ line11 + \"\\n\")"
   ]
  }
 ],
 "metadata": {
  "kernelspec": {
   "display_name": "Python 3",
   "language": "python",
   "name": "python3"
  },
  "language_info": {
   "codemirror_mode": {
    "name": "ipython",
    "version": 3
   },
   "file_extension": ".py",
   "mimetype": "text/x-python",
   "name": "python",
   "nbconvert_exporter": "python",
   "pygments_lexer": "ipython3",
   "version": "3.7.4"
  }
 },
 "nbformat": 4,
 "nbformat_minor": 2
}
