{
 "cells": [
  {
   "cell_type": "code",
   "execution_count": 1,
   "metadata": {},
   "outputs": [],
   "source": [
    "import os\n",
    "import csv\n",
    "\n",
    "#input file\n",
    "csvpath_data = os.path.join('data','input', 'budget_data.csv')\n",
    "\n",
    "#output file \n",
    "analysis_output = os.path.join('data','output','Financial_Analysis.txt')\n"
   ]
  },
  {
   "cell_type": "code",
   "execution_count": 2,
   "metadata": {},
   "outputs": [],
   "source": [
    "total_months=0\n",
    "greatest_increase=0\n",
    "greatest_decrease=0\n",
    "total_net=0\n",
    "delta_dates=[]\n",
    "delta_values=[]\n",
    "sum_delta_values=[]"
   ]
  },
  {
   "cell_type": "code",
   "execution_count": 3,
   "metadata": {},
   "outputs": [],
   "source": [
    "with open(csvpath_data, newline='', encoding='utf8') as bankdata:\n",
    "    frecords=csv.reader(bankdata,delimiter=',')\n",
    "    csv_header = next(frecords)\n",
    "    #print(csv_header)\n",
    "    #data = list(frecords)\n",
    "    for row in frecords:\n",
    "        #print(row)\n",
    "        total_months += 1\n",
    "        total_net += int(row[1])"
   ]
  },
  {
   "cell_type": "code",
   "execution_count": 4,
   "metadata": {},
   "outputs": [],
   "source": [
    "with open(csvpath_data, newline='', encoding='utf8') as bankdata:\n",
    "    frecords=csv.reader(bankdata,delimiter=',')\n",
    "    csv_header = next(frecords)\n",
    "    first_deposit = next(frecords)\n",
    "    prev_net=int(first_deposit[1])\n",
    "    #for row in frecords:\n",
    "    #print(csv_header)\n",
    "    #print(first_deposit)\n",
    "    #print(prev_net)\n",
    "\n",
    "#iterate through rows and populate list of months and differences\n",
    "    for row in frecords:\n",
    "        current_deposit= int(row[1])\n",
    "        delta = current_deposit-prev_net\n",
    "        delta_values.append(delta)\n",
    "        delta_dates.append(row[0])\n",
    "        #sum_delta_values.append(sum(delta))\n",
    "        sum_delta_values.append(delta)\n",
    "        prev_net = current_deposit"
   ]
  },
  {
   "cell_type": "code",
   "execution_count": 5,
   "metadata": {},
   "outputs": [],
   "source": [
    "# print values in list to confirm all looks good\n",
    "# print(delta_values)\n",
    "# print(delta_dates)\n",
    "# print(sum_delta_values)"
   ]
  },
  {
   "cell_type": "code",
   "execution_count": 6,
   "metadata": {},
   "outputs": [],
   "source": [
    "average_delta = sum(sum_delta_values) / len(sum_delta_values)\n"
   ]
  },
  {
   "cell_type": "code",
   "execution_count": 7,
   "metadata": {},
   "outputs": [],
   "source": [
    "#get index for max and min values\n",
    "min_increase_index = delta_values.index(min(delta_values))\n",
    "max_increase_index = delta_values.index(max(delta_values))\n",
    "\n",
    "#get month and value for max and min increments fot Quality Control\n",
    "#print(delta_dates[min_increase_index])\n",
    "#print(delta_dates[max_increase_index])"
   ]
  },
  {
   "cell_type": "code",
   "execution_count": 8,
   "metadata": {},
   "outputs": [
    {
     "name": "stdout",
     "output_type": "stream",
     "text": [
      "Financial Analysis\n",
      "---------------------------------\n",
      "Total Months: 86\n",
      "Total Amount: $38382578\n",
      "Average Change: $-2315.12\n",
      "Greatest Increase in Profits: Feb-2012 ($1926159)\n",
      "Greatest Decrease in Profits: Sep-2013 ($-2196167)\n"
     ]
    }
   ],
   "source": [
    "#print values\n",
    "print(\"Financial Analysis\" )\n",
    "print(\"---------------------------------\" )\n",
    "print(f'Total Months: {total_months}')\n",
    "print(f'Total Amount: ${total_net}')\n",
    "print(f'Average Change: ${\"%.2f\" % average_delta}')\n",
    "print(f'Greatest Increase in Profits: {(delta_dates[max_increase_index])} (${delta_values[max_increase_index]})')\n",
    "print(f'Greatest Decrease in Profits: {(delta_dates[min_increase_index])} (${delta_values[min_increase_index]})')"
   ]
  },
  {
   "cell_type": "code",
   "execution_count": 9,
   "metadata": {},
   "outputs": [],
   "source": [
    "#create and save info into a text file\n",
    "with open(analysis_output, \"w\") as text:\n",
    "    line1=(\"Financial Analysis\")\n",
    "    line2=(\"---------------------------------\" )\n",
    "    line3=(f'Total Months: {total_months}')\n",
    "    line4=(f'Total Amount: ${total_net}')\n",
    "    line5=(f'Average Change: ${\"%.2f\" % average_delta}')\n",
    "    line6=(f'Greatest Increase in Profits: {(delta_dates[max_increase_index])} (${delta_values[max_increase_index]})')\n",
    "    line7=(f'Greatest Decrease in Profits: {(delta_dates[min_increase_index])} (${delta_values[min_increase_index]})')\n",
    "    text.write(line1 + \"\\n\" + line2 + \"\\n\"+ line3 + \"\\n\" + line4 + \"\\n\" + line5 + \"\\n\"+ line6 + \"\\n\" + line7 + \"\\n\")"
   ]
  },
  {
   "cell_type": "code",
   "execution_count": null,
   "metadata": {},
   "outputs": [],
   "source": []
  }
 ],
 "metadata": {
  "kernelspec": {
   "display_name": "Python 3",
   "language": "python",
   "name": "python3"
  },
  "language_info": {
   "codemirror_mode": {
    "name": "ipython",
    "version": 3
   },
   "file_extension": ".py",
   "mimetype": "text/x-python",
   "name": "python",
   "nbconvert_exporter": "python",
   "pygments_lexer": "ipython3",
   "version": "3.7.4"
  }
 },
 "nbformat": 4,
 "nbformat_minor": 2
}
